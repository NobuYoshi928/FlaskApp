{
 "cells": [
  {
   "cell_type": "code",
   "execution_count": 21,
   "metadata": {},
   "outputs": [],
   "source": [
    "from logging import getLogger\n",
    "import gokart\n",
    "import logging\n",
    "import luigi\n",
    "import pickle\n",
    "logger = getLogger(__name__)"
   ]
  },
  {
   "cell_type": "code",
   "execution_count": 30,
   "metadata": {},
   "outputs": [],
   "source": [
    "class Sample(gokart.TaskOnKart):\n",
    "    def run(self):\n",
    "        self.dump('hello world')\n",
    "\n",
    "\n",
    "class StringToSplit(gokart.TaskOnKart):\n",
    "    task = gokart.TaskInstanceParameter()\n",
    "\n",
    "    def run(self):\n",
    "        sample = self.load('task')\n",
    "        self.dump(sample.split(' '))\n",
    "\n",
    "\n",
    "class Main(gokart.TaskOnKart):\n",
    "    def requires(self):\n",
    "        return StringToSplit(task=Sample())"
   ]
  },
  {
   "cell_type": "markdown",
   "metadata": {},
   "source": [
    "Jupyter上で実行するときは`gokart.build`, コマンドで実行するときは`gokart.run`を使う\n",
    "試しに`Sample`のみ実行してみる。\n",
    "（コマンドで実行する場合は`python sample.py Sample --local-scheduler --param=hello`）  \n",
    "\n",
    "※指定するのは最後のTaskで、そこから機械的に依存関係を見て実行してくれるイメージ"
   ]
  },
  {
   "cell_type": "code",
   "execution_count": 31,
   "metadata": {},
   "outputs": [
    {
     "name": "stderr",
     "output_type": "stream",
     "text": [
      "DEBUG: Checking if Sample() is complete\n",
      "INFO: Informed scheduler that task   Sample__99914b932b   has status   PENDING\n",
      "INFO: Done scheduling tasks\n",
      "INFO: Running Worker with 1 processes\n",
      "DEBUG: Asking scheduler for work...\n",
      "DEBUG: Pending tasks: 1\n",
      "INFO: [pid 137] Worker Worker(salt=652455159, workers=1, host=88071f242bda, username=root, pid=137) running   Sample()\n",
      "INFO: [pid 137] Worker Worker(salt=652455159, workers=1, host=88071f242bda, username=root, pid=137) done      Sample()\n",
      "DEBUG: 1 running tasks, waiting for next task to finish\n",
      "INFO: Informed scheduler that task   Sample__99914b932b   has status   DONE\n",
      "DEBUG: Asking scheduler for work...\n",
      "DEBUG: Done\n",
      "DEBUG: There are no more tasks to run at this time\n",
      "INFO: Worker Worker(salt=652455159, workers=1, host=88071f242bda, username=root, pid=137) was stopped. Shutting down Keep-Alive thread\n",
      "INFO: \n",
      "===== Luigi Execution Summary =====\n",
      "\n",
      "Scheduled 1 tasks of which:\n",
      "* 1 ran successfully:\n",
      "    - 1 Sample(...)\n",
      "\n",
      "This progress looks :) because there were no failed tasks or missing dependencies\n",
      "\n",
      "===== Luigi Execution Summary =====\n",
      "\n"
     ]
    }
   ],
   "source": [
    "gokart.build(Sample(), return_value=False, log_level=logging.DEBUG)"
   ]
  },
  {
   "cell_type": "markdown",
   "metadata": {},
   "source": [
    "出力されるファイルを見てみる  \n",
    "resources/  \n",
    "├── __main__  \n",
    "│   └── Example_8441c59b5ce0113396d53509f19371fb.pkl  \n",
    "└── log  \n",
    "    ├── module_versions  \n",
    "    │   └── Example_8441c59b5ce0113396d53509f19371fb.txt  \n",
    "    ├── processing_time  \n",
    "    │   └── Example_8441c59b5ce0113396d53509f19371fb.pkl  \n",
    "    ├── random_seed  \n",
    "    │   └── Example_8441c59b5ce0113396d53509f19371fb.pkl  \n",
    "    ├── task_log  \n",
    "    │   └── Example_8441c59b5ce0113396d53509f19371fb.pkl  \n",
    "    └── task_params  \n",
    "        └── Example_8441c59b5ce0113396d53509f19371fb.pkl  "
   ]
  },
  {
   "cell_type": "code",
   "execution_count": 32,
   "metadata": {},
   "outputs": [
    {
     "name": "stdout",
     "output_type": "stream",
     "text": [
      "hello world\n"
     ]
    }
   ],
   "source": [
    "# タスクの出力結果\n",
    "with open('resources/__main__/Sample_0364bf12abd58b1458027713a43be27e.pkl', 'rb') as f:\n",
    "    print(pickle.load(f))"
   ]
  },
  {
   "cell_type": "markdown",
   "metadata": {},
   "source": [
    "続いてMainタスクを実行してみる"
   ]
  },
  {
   "cell_type": "code",
   "execution_count": 33,
   "metadata": {},
   "outputs": [
    {
     "name": "stderr",
     "output_type": "stream",
     "text": [
      "DEBUG: Checking if Main() is complete\n",
      "DEBUG: Checking if StringToSplit(task=Sample(cdf55a3d6c255d8c191f5f472da61f99)) is complete\n",
      "INFO: Informed scheduler that task   Main__99914b932b   has status   PENDING\n",
      "DEBUG: Checking if Sample() is complete\n",
      "INFO: Informed scheduler that task   StringToSplit___type____Sample_0b7100a366   has status   PENDING\n",
      "INFO: Informed scheduler that task   Sample__99914b932b   has status   DONE\n",
      "INFO: Done scheduling tasks\n",
      "INFO: Running Worker with 1 processes\n",
      "DEBUG: Asking scheduler for work...\n",
      "DEBUG: Pending tasks: 2\n",
      "INFO: [pid 137] Worker Worker(salt=117981665, workers=1, host=88071f242bda, username=root, pid=137) running   StringToSplit(task=Sample(cdf55a3d6c255d8c191f5f472da61f99))\n",
      "INFO: [pid 137] Worker Worker(salt=117981665, workers=1, host=88071f242bda, username=root, pid=137) done      StringToSplit(task=Sample(cdf55a3d6c255d8c191f5f472da61f99))\n",
      "DEBUG: 1 running tasks, waiting for next task to finish\n",
      "INFO: Informed scheduler that task   StringToSplit___type____Sample_0b7100a366   has status   DONE\n",
      "DEBUG: Asking scheduler for work...\n",
      "DEBUG: Pending tasks: 1\n",
      "INFO: [pid 137] Worker Worker(salt=117981665, workers=1, host=88071f242bda, username=root, pid=137) running   Main()\n",
      "INFO: [pid 137] Worker Worker(salt=117981665, workers=1, host=88071f242bda, username=root, pid=137) done      Main()\n",
      "DEBUG: 1 running tasks, waiting for next task to finish\n",
      "INFO: Informed scheduler that task   Main__99914b932b   has status   DONE\n",
      "DEBUG: Asking scheduler for work...\n",
      "DEBUG: Done\n",
      "DEBUG: There are no more tasks to run at this time\n",
      "INFO: Worker Worker(salt=117981665, workers=1, host=88071f242bda, username=root, pid=137) was stopped. Shutting down Keep-Alive thread\n",
      "INFO: \n",
      "===== Luigi Execution Summary =====\n",
      "\n",
      "Scheduled 3 tasks of which:\n",
      "* 1 complete ones were encountered:\n",
      "    - 1 Sample(...)\n",
      "* 2 ran successfully:\n",
      "    - 1 Main(...)\n",
      "    - 1 StringToSplit(...)\n",
      "\n",
      "This progress looks :) because there were no failed tasks or missing dependencies\n",
      "\n",
      "===== Luigi Execution Summary =====\n",
      "\n"
     ]
    }
   ],
   "source": [
    "gokart.build(Main(), return_value=False, log_level=logging.DEBUG)"
   ]
  },
  {
   "cell_type": "markdown",
   "metadata": {},
   "source": [
    "Sampleタスクは既に実行されているため、実行されていない。\n",
    "StringToSplitの出力結果も見てみる。"
   ]
  },
  {
   "cell_type": "code",
   "execution_count": 36,
   "metadata": {},
   "outputs": [
    {
     "name": "stdout",
     "output_type": "stream",
     "text": [
      "['hello', 'world']\n"
     ]
    }
   ],
   "source": [
    "with open('resources/__main__/StringToSplit_bdd05477115a331c4dce78999c46b7d2.pkl', 'rb') as f:\n",
    "    print(pickle.load(f))"
   ]
  },
  {
   "cell_type": "markdown",
   "metadata": {},
   "source": [
    "上の方法だとSampleは再実行されなかったが、再実行させていときには2つの方法がある。\n",
    "1. rerun parameterを使う\n",
    "2. version parameterを使う"
   ]
  },
  {
   "cell_type": "code",
   "execution_count": 39,
   "metadata": {},
   "outputs": [],
   "source": [
    "# rerun parameterを使う\n",
    "class Sample(gokart.TaskOnKart):\n",
    "    def run(self):\n",
    "        self.dump('hello world')\n",
    "\n",
    "\n",
    "class StringToSplit(gokart.TaskOnKart):\n",
    "    task = gokart.TaskInstanceParameter()\n",
    "\n",
    "    def run(self):\n",
    "        sample = self.load('task')\n",
    "        self.dump(sample.split(' '))\n",
    "\n",
    "\n",
    "class Main(gokart.TaskOnKart):\n",
    "    rerun=True\n",
    "    \n",
    "    def requires(self):\n",
    "        return StringToSplit(task=Sample(rerun=self.rerun), rerun=self.rerun)"
   ]
  },
  {
   "cell_type": "code",
   "execution_count": 40,
   "metadata": {},
   "outputs": [
    {
     "name": "stderr",
     "output_type": "stream",
     "text": [
      "DEBUG: Checking if Sample() is complete\n",
      "INFO: Informed scheduler that task   Sample__99914b932b   has status   DONE\n",
      "INFO: Done scheduling tasks\n",
      "INFO: Running Worker with 1 processes\n",
      "DEBUG: Asking scheduler for work...\n",
      "DEBUG: Done\n",
      "DEBUG: There are no more tasks to run at this time\n",
      "INFO: Worker Worker(salt=254430108, workers=1, host=88071f242bda, username=root, pid=137) was stopped. Shutting down Keep-Alive thread\n",
      "INFO: \n",
      "===== Luigi Execution Summary =====\n",
      "\n",
      "Scheduled 1 tasks of which:\n",
      "* 1 complete ones were encountered:\n",
      "    - 1 Sample(...)\n",
      "\n",
      "Did not run any tasks\n",
      "This progress looks :) because there were no failed tasks or missing dependencies\n",
      "\n",
      "===== Luigi Execution Summary =====\n",
      "\n"
     ]
    }
   ],
   "source": [
    "gokart.build(Sample(), return_value=False, log_level=logging.DEBUG)"
   ]
  },
  {
   "cell_type": "code",
   "execution_count": 41,
   "metadata": {},
   "outputs": [
    {
     "name": "stderr",
     "output_type": "stream",
     "text": [
      "DEBUG: Checking if Main() is complete\n",
      "DEBUG: Checking if StringToSplit(task=Sample(cdf55a3d6c255d8c191f5f472da61f99)) is complete\n",
      "INFO: Informed scheduler that task   Main__99914b932b   has status   PENDING\n",
      "DEBUG: Checking if Sample() is complete\n",
      "INFO: Informed scheduler that task   StringToSplit___type____Sample_0b7100a366   has status   PENDING\n",
      "INFO: Informed scheduler that task   Sample__99914b932b   has status   PENDING\n",
      "INFO: Done scheduling tasks\n",
      "INFO: Running Worker with 1 processes\n",
      "DEBUG: Asking scheduler for work...\n",
      "DEBUG: Pending tasks: 3\n",
      "INFO: [pid 137] Worker Worker(salt=436235229, workers=1, host=88071f242bda, username=root, pid=137) running   Sample()\n",
      "INFO: [pid 137] Worker Worker(salt=436235229, workers=1, host=88071f242bda, username=root, pid=137) done      Sample()\n",
      "DEBUG: 1 running tasks, waiting for next task to finish\n",
      "INFO: Informed scheduler that task   Sample__99914b932b   has status   DONE\n",
      "DEBUG: Asking scheduler for work...\n",
      "DEBUG: Pending tasks: 2\n",
      "INFO: [pid 137] Worker Worker(salt=436235229, workers=1, host=88071f242bda, username=root, pid=137) running   StringToSplit(task=Sample(cdf55a3d6c255d8c191f5f472da61f99))\n",
      "INFO: [pid 137] Worker Worker(salt=436235229, workers=1, host=88071f242bda, username=root, pid=137) done      StringToSplit(task=Sample(cdf55a3d6c255d8c191f5f472da61f99))\n",
      "DEBUG: 1 running tasks, waiting for next task to finish\n",
      "INFO: Informed scheduler that task   StringToSplit___type____Sample_0b7100a366   has status   DONE\n",
      "DEBUG: Asking scheduler for work...\n",
      "DEBUG: Pending tasks: 1\n",
      "INFO: [pid 137] Worker Worker(salt=436235229, workers=1, host=88071f242bda, username=root, pid=137) running   Main()\n",
      "INFO: [pid 137] Worker Worker(salt=436235229, workers=1, host=88071f242bda, username=root, pid=137) done      Main()\n",
      "DEBUG: 1 running tasks, waiting for next task to finish\n",
      "INFO: Informed scheduler that task   Main__99914b932b   has status   DONE\n",
      "DEBUG: Asking scheduler for work...\n",
      "DEBUG: Done\n",
      "DEBUG: There are no more tasks to run at this time\n",
      "INFO: Worker Worker(salt=436235229, workers=1, host=88071f242bda, username=root, pid=137) was stopped. Shutting down Keep-Alive thread\n",
      "INFO: \n",
      "===== Luigi Execution Summary =====\n",
      "\n",
      "Scheduled 3 tasks of which:\n",
      "* 3 ran successfully:\n",
      "    - 1 Main(...)\n",
      "    - 1 Sample(...)\n",
      "    - 1 StringToSplit(...)\n",
      "\n",
      "This progress looks :) because there were no failed tasks or missing dependencies\n",
      "\n",
      "===== Luigi Execution Summary =====\n",
      "\n"
     ]
    }
   ],
   "source": [
    "gokart.build(Main(), return_value=False, log_level=logging.DEBUG)"
   ]
  },
  {
   "cell_type": "markdown",
   "metadata": {},
   "source": [
    "今度はSampleも再実行されている。"
   ]
  },
  {
   "cell_type": "code",
   "execution_count": 100,
   "metadata": {},
   "outputs": [],
   "source": [
    "# 2.version parameterを使う\n",
    "class Sample(gokart.TaskOnKart):\n",
    "    __version = luigi.IntParameter(default=1)\n",
    "    \n",
    "    def run(self):\n",
    "        self.dump('hello world')\n",
    "\n",
    "\n",
    "class StringToSplit(gokart.TaskOnKart):\n",
    "    task = gokart.TaskInstanceParameter()\n",
    "\n",
    "    def run(self):\n",
    "        sample = self.load('task')\n",
    "        self.dump(sample.split(' '))\n",
    "\n",
    "\n",
    "class Main(gokart.TaskOnKart):\n",
    "    def requires(self):\n",
    "        return StringToSplit(task=Sample(__version=2))"
   ]
  },
  {
   "cell_type": "code",
   "execution_count": 101,
   "metadata": {},
   "outputs": [
    {
     "name": "stderr",
     "output_type": "stream",
     "text": [
      "DEBUG: Checking if Sample(_Sample__version=1) is complete\n",
      "INFO: Informed scheduler that task   Sample_1_c68ef0739e   has status   DONE\n",
      "INFO: Done scheduling tasks\n",
      "INFO: Running Worker with 1 processes\n",
      "DEBUG: Asking scheduler for work...\n",
      "DEBUG: Done\n",
      "DEBUG: There are no more tasks to run at this time\n",
      "INFO: Worker Worker(salt=239108188, workers=1, host=88071f242bda, username=root, pid=137) was stopped. Shutting down Keep-Alive thread\n",
      "INFO: \n",
      "===== Luigi Execution Summary =====\n",
      "\n",
      "Scheduled 1 tasks of which:\n",
      "* 1 complete ones were encountered:\n",
      "    - 1 Sample(...)\n",
      "\n",
      "Did not run any tasks\n",
      "This progress looks :) because there were no failed tasks or missing dependencies\n",
      "\n",
      "===== Luigi Execution Summary =====\n",
      "\n"
     ]
    }
   ],
   "source": [
    "gokart.build(Sample(), return_value=False, log_level=logging.DEBUG)"
   ]
  },
  {
   "cell_type": "code",
   "execution_count": 44,
   "metadata": {},
   "outputs": [
    {
     "name": "stderr",
     "output_type": "stream",
     "text": [
      "DEBUG: Checking if Main() is complete\n",
      "DEBUG: Checking if StringToSplit(task=Sample(6d235ca0a7e4d46a49a87e0763459506)) is complete\n",
      "INFO: Informed scheduler that task   Main__99914b932b   has status   PENDING\n",
      "DEBUG: Checking if Sample(_Sample__version=1) is complete\n",
      "INFO: Informed scheduler that task   StringToSplit___type____Sample_8e8329268e   has status   PENDING\n",
      "INFO: Informed scheduler that task   Sample_1_c68ef0739e   has status   DONE\n",
      "INFO: Done scheduling tasks\n",
      "INFO: Running Worker with 1 processes\n",
      "DEBUG: Asking scheduler for work...\n",
      "DEBUG: Pending tasks: 2\n",
      "INFO: [pid 137] Worker Worker(salt=616641627, workers=1, host=88071f242bda, username=root, pid=137) running   StringToSplit(task=Sample(6d235ca0a7e4d46a49a87e0763459506))\n",
      "INFO: [pid 137] Worker Worker(salt=616641627, workers=1, host=88071f242bda, username=root, pid=137) done      StringToSplit(task=Sample(6d235ca0a7e4d46a49a87e0763459506))\n",
      "DEBUG: 1 running tasks, waiting for next task to finish\n",
      "INFO: Informed scheduler that task   StringToSplit___type____Sample_8e8329268e   has status   DONE\n",
      "DEBUG: Asking scheduler for work...\n",
      "DEBUG: Pending tasks: 1\n",
      "INFO: [pid 137] Worker Worker(salt=616641627, workers=1, host=88071f242bda, username=root, pid=137) running   Main()\n",
      "INFO: [pid 137] Worker Worker(salt=616641627, workers=1, host=88071f242bda, username=root, pid=137) done      Main()\n",
      "DEBUG: 1 running tasks, waiting for next task to finish\n",
      "INFO: Informed scheduler that task   Main__99914b932b   has status   DONE\n",
      "DEBUG: Asking scheduler for work...\n",
      "DEBUG: Done\n",
      "DEBUG: There are no more tasks to run at this time\n",
      "INFO: Worker Worker(salt=616641627, workers=1, host=88071f242bda, username=root, pid=137) was stopped. Shutting down Keep-Alive thread\n",
      "INFO: \n",
      "===== Luigi Execution Summary =====\n",
      "\n",
      "Scheduled 3 tasks of which:\n",
      "* 1 complete ones were encountered:\n",
      "    - 1 Sample(...)\n",
      "* 2 ran successfully:\n",
      "    - 1 Main(...)\n",
      "    - 1 StringToSplit(...)\n",
      "\n",
      "This progress looks :) because there were no failed tasks or missing dependencies\n",
      "\n",
      "===== Luigi Execution Summary =====\n",
      "\n"
     ]
    }
   ],
   "source": [
    "gokart.build(Main(), return_value=False, log_level=logging.DEBUG)"
   ]
  },
  {
   "cell_type": "markdown",
   "metadata": {},
   "source": [
    "あれ、再実行されてない。よくわからんけどとりあえず先に進む。（__versionパラメタの値を変えれば別タスクになるってことっぽい）"
   ]
  },
  {
   "cell_type": "markdown",
   "metadata": {},
   "source": [
    "***\n",
    "## TaskOnKart"
   ]
  },
  {
   "cell_type": "code",
   "execution_count": 45,
   "metadata": {},
   "outputs": [],
   "source": [
    "class TaskA(gokart.TaskOnKart):\n",
    "    param = luigi.Parameter()\n",
    "\n",
    "    def output(self):\n",
    "        return self.make_target('output_of_task_a.pkl')\n",
    "\n",
    "    def run(self):\n",
    "        results = f'param={self.param}'\n",
    "        self.dump(results)\n",
    "\n",
    "\n",
    "class TaskB(gokart.TaskOnKart):\n",
    "    param = luigi.Parameter()\n",
    "\n",
    "    def requires(self):\n",
    "        return TaskA(param='world')\n",
    "\n",
    "    def output(self):\n",
    "        return self.make_target('output_of_task_b.pkl')\n",
    "\n",
    "    def run(self):\n",
    "        output_of_task_a = self.load()\n",
    "        results = f'Task A: {output_of_task_a}\\nTaskB: param={self.param}'\n",
    "        self.dump(results)"
   ]
  },
  {
   "cell_type": "markdown",
   "metadata": {},
   "source": [
    "- `output`では各タスクの出力先と拡張子を指定できる（何も指定しない場合は`./resources/__main__/`にpklで出力される）。\n",
    "- `make_model_target()`でさらに多様な拡張子を設定できるらしい。"
   ]
  },
  {
   "cell_type": "code",
   "execution_count": 47,
   "metadata": {},
   "outputs": [
    {
     "name": "stderr",
     "output_type": "stream",
     "text": [
      "DEBUG: Checking if TaskB(param=hello) is complete\n",
      "DEBUG: Checking if TaskA(param=world) is complete\n",
      "INFO: Informed scheduler that task   TaskB_hello_523b4d23f7   has status   PENDING\n",
      "INFO: Informed scheduler that task   TaskA_world_82a8b4cc97   has status   PENDING\n",
      "INFO: Done scheduling tasks\n",
      "INFO: Running Worker with 1 processes\n",
      "DEBUG: Asking scheduler for work...\n",
      "DEBUG: Pending tasks: 2\n",
      "INFO: [pid 137] Worker Worker(salt=552424809, workers=1, host=88071f242bda, username=root, pid=137) running   TaskA(param=world)\n",
      "INFO: [pid 137] Worker Worker(salt=552424809, workers=1, host=88071f242bda, username=root, pid=137) done      TaskA(param=world)\n",
      "DEBUG: 1 running tasks, waiting for next task to finish\n",
      "INFO: Informed scheduler that task   TaskA_world_82a8b4cc97   has status   DONE\n",
      "DEBUG: Asking scheduler for work...\n",
      "DEBUG: Pending tasks: 1\n",
      "INFO: [pid 137] Worker Worker(salt=552424809, workers=1, host=88071f242bda, username=root, pid=137) running   TaskB(param=hello)\n",
      "INFO: [pid 137] Worker Worker(salt=552424809, workers=1, host=88071f242bda, username=root, pid=137) done      TaskB(param=hello)\n",
      "DEBUG: 1 running tasks, waiting for next task to finish\n",
      "INFO: Informed scheduler that task   TaskB_hello_523b4d23f7   has status   DONE\n",
      "DEBUG: Asking scheduler for work...\n",
      "DEBUG: Done\n",
      "DEBUG: There are no more tasks to run at this time\n",
      "INFO: Worker Worker(salt=552424809, workers=1, host=88071f242bda, username=root, pid=137) was stopped. Shutting down Keep-Alive thread\n",
      "INFO: \n",
      "===== Luigi Execution Summary =====\n",
      "\n",
      "Scheduled 2 tasks of which:\n",
      "* 2 ran successfully:\n",
      "    - 1 TaskA(...)\n",
      "    - 1 TaskB(...)\n",
      "\n",
      "This progress looks :) because there were no failed tasks or missing dependencies\n",
      "\n",
      "===== Luigi Execution Summary =====\n",
      "\n"
     ]
    }
   ],
   "source": [
    "gokart.build(TaskB(param='hello'), return_value=False, log_level=logging.DEBUG)"
   ]
  },
  {
   "cell_type": "markdown",
   "metadata": {},
   "source": [
    "出力先が変わっている"
   ]
  },
  {
   "cell_type": "code",
   "execution_count": 50,
   "metadata": {},
   "outputs": [
    {
     "name": "stdout",
     "output_type": "stream",
     "text": [
      "param=world\n",
      "Task A: param=world\n",
      "TaskB: param=hello\n"
     ]
    }
   ],
   "source": [
    "# TaskAとTaskBの出力\n",
    "with open('resources/output_of_task_a_863d9ba1d171a05c64018f7c24792706.pkl', 'rb') as f:\n",
    "    print(pickle.load(f))\n",
    "with open('resources/output_of_task_b_cd5a550cf6d49634f4310bf55f5071c5.pkl', 'rb') as f:\n",
    "    print(pickle.load(f))"
   ]
  },
  {
   "cell_type": "markdown",
   "metadata": {},
   "source": [
    "### 複数のタスクから出力を受け取りたいとき"
   ]
  },
  {
   "cell_type": "code",
   "execution_count": 82,
   "metadata": {},
   "outputs": [],
   "source": [
    "class TaskA(gokart.TaskOnKart):\n",
    "    def run(self):\n",
    "        self.dump('hello')\n",
    "\n",
    "\n",
    "class TaskB(gokart.TaskOnKart):\n",
    "    def run(self):\n",
    "        self.dump('world')\n",
    "\n",
    "class TaskC(gokart.TaskOnKart):\n",
    "    def requires(self):\n",
    "        return dict(a=TaskA(), b=TaskB())\n",
    "    \n",
    "    def run(self):\n",
    "        input_from_a = self.load('a')\n",
    "        input_from_b = self.load('b')\n",
    "        self.dump(f'{input_from_a}, {input_from_b}')"
   ]
  },
  {
   "cell_type": "code",
   "execution_count": 83,
   "metadata": {},
   "outputs": [
    {
     "name": "stderr",
     "output_type": "stream",
     "text": [
      "DEBUG: Checking if TaskC() is complete\n",
      "INFO: Informed scheduler that task   TaskC__99914b932b   has status   DONE\n",
      "INFO: Done scheduling tasks\n",
      "INFO: Running Worker with 1 processes\n",
      "DEBUG: Asking scheduler for work...\n",
      "DEBUG: Done\n",
      "DEBUG: There are no more tasks to run at this time\n",
      "INFO: Worker Worker(salt=686370457, workers=1, host=88071f242bda, username=root, pid=137) was stopped. Shutting down Keep-Alive thread\n",
      "INFO: \n",
      "===== Luigi Execution Summary =====\n",
      "\n",
      "Scheduled 1 tasks of which:\n",
      "* 1 complete ones were encountered:\n",
      "    - 1 TaskC(...)\n",
      "\n",
      "Did not run any tasks\n",
      "This progress looks :) because there were no failed tasks or missing dependencies\n",
      "\n",
      "===== Luigi Execution Summary =====\n",
      "\n"
     ]
    }
   ],
   "source": [
    "gokart.build(TaskC(), return_value=False, log_level=logging.DEBUG)"
   ]
  },
  {
   "cell_type": "code",
   "execution_count": 53,
   "metadata": {},
   "outputs": [
    {
     "name": "stdout",
     "output_type": "stream",
     "text": [
      "hello, world\n"
     ]
    }
   ],
   "source": [
    "# TaskCの出力\n",
    "with open('resources/__main__/TaskC_7f9110ac41c35edd2c9aba2eead98977.pkl', 'rb') as f:\n",
    "    print(pickle.load(f))"
   ]
  },
  {
   "cell_type": "markdown",
   "metadata": {},
   "source": [
    "### 複数の出力を渡したいとき"
   ]
  },
  {
   "cell_type": "code",
   "execution_count": 75,
   "metadata": {},
   "outputs": [],
   "source": [
    "class TaskA(gokart.TaskOnKart):\n",
    "    def output(self):\n",
    "        return dict(a=self.make_target('output_a.pkl'), b=self.make_target('output_b.pkl'))\n",
    "    \n",
    "    def run(self):\n",
    "        self.dump('huuuu', 'a')\n",
    "        self.dump('hoooo', 'b')\n",
    "\n",
    "\n",
    "class TaskB(gokart.TaskOnKart):\n",
    "    def requires(self):\n",
    "        return TaskA(rerun=True)\n",
    "    \n",
    "    def run(self):\n",
    "        imput1 = self.load('a')\n",
    "        imput2 = self.load('b')\n",
    "        self.dump(f'{imput1}, {imput2}')"
   ]
  },
  {
   "cell_type": "code",
   "execution_count": 76,
   "metadata": {},
   "outputs": [
    {
     "name": "stderr",
     "output_type": "stream",
     "text": [
      "DEBUG: Checking if TaskB() is complete\n",
      "DEBUG: Checking if TaskA() is complete\n",
      "INFO: Informed scheduler that task   TaskB__99914b932b   has status   PENDING\n",
      "INFO: Informed scheduler that task   TaskA__99914b932b   has status   PENDING\n",
      "INFO: Done scheduling tasks\n",
      "INFO: Running Worker with 1 processes\n",
      "DEBUG: Asking scheduler for work...\n",
      "DEBUG: Pending tasks: 2\n",
      "INFO: [pid 137] Worker Worker(salt=731295791, workers=1, host=88071f242bda, username=root, pid=137) running   TaskA()\n",
      "INFO: [pid 137] Worker Worker(salt=731295791, workers=1, host=88071f242bda, username=root, pid=137) done      TaskA()\n",
      "DEBUG: 1 running tasks, waiting for next task to finish\n",
      "INFO: Informed scheduler that task   TaskA__99914b932b   has status   DONE\n",
      "DEBUG: Asking scheduler for work...\n",
      "DEBUG: Pending tasks: 1\n",
      "INFO: [pid 137] Worker Worker(salt=731295791, workers=1, host=88071f242bda, username=root, pid=137) running   TaskB()\n",
      "INFO: [pid 137] Worker Worker(salt=731295791, workers=1, host=88071f242bda, username=root, pid=137) done      TaskB()\n",
      "DEBUG: 1 running tasks, waiting for next task to finish\n",
      "INFO: Informed scheduler that task   TaskB__99914b932b   has status   DONE\n",
      "DEBUG: Asking scheduler for work...\n",
      "DEBUG: Done\n",
      "DEBUG: There are no more tasks to run at this time\n",
      "INFO: Worker Worker(salt=731295791, workers=1, host=88071f242bda, username=root, pid=137) was stopped. Shutting down Keep-Alive thread\n",
      "INFO: \n",
      "===== Luigi Execution Summary =====\n",
      "\n",
      "Scheduled 2 tasks of which:\n",
      "* 2 ran successfully:\n",
      "    - 1 TaskA(...)\n",
      "    - 1 TaskB(...)\n",
      "\n",
      "This progress looks :) because there were no failed tasks or missing dependencies\n",
      "\n",
      "===== Luigi Execution Summary =====\n",
      "\n"
     ]
    }
   ],
   "source": [
    "gokart.build(TaskB(rerun=True), return_value=False, log_level=logging.DEBUG)"
   ]
  },
  {
   "cell_type": "code",
   "execution_count": 77,
   "metadata": {},
   "outputs": [
    {
     "name": "stdout",
     "output_type": "stream",
     "text": [
      "huuuu, hoooo\n"
     ]
    }
   ],
   "source": [
    "with open('resources/__main__/TaskB_8258602061b8d7093066089f6274ce34.pkl', 'rb') as f:\n",
    "    print(pickle.load(f))"
   ]
  },
  {
   "cell_type": "markdown",
   "metadata": {},
   "source": [
    "### pandasのdfを扱うのに便利な機能"
   ]
  },
  {
   "cell_type": "markdown",
   "metadata": {},
   "source": [
    "`SamplePandasTypeConfig`を書いておくと、カラムに違うデータ型が入りそうなときエラーになってくれる"
   ]
  },
  {
   "cell_type": "code",
   "execution_count": 84,
   "metadata": {},
   "outputs": [],
   "source": [
    "import pandas as pd\n",
    "class SamplePandasTypeConfig(gokart.PandasTypeConfig):\n",
    "\n",
    "    @classmethod\n",
    "    def type_dict(cls):\n",
    "        return {'int_column': int}\n",
    "\n",
    "\n",
    "class SampleTask(gokart.TaskOnKart):\n",
    "\n",
    "    def run(self):\n",
    "        df = pd.DataFrame(dict(int_column=['a']))\n",
    "        self.dump(df)"
   ]
  },
  {
   "cell_type": "code",
   "execution_count": 85,
   "metadata": {},
   "outputs": [
    {
     "name": "stderr",
     "output_type": "stream",
     "text": [
      "DEBUG: Checking if SampleTask() is complete\n",
      "INFO: Informed scheduler that task   SampleTask__99914b932b   has status   PENDING\n",
      "INFO: Done scheduling tasks\n",
      "INFO: Running Worker with 1 processes\n",
      "DEBUG: Asking scheduler for work...\n",
      "DEBUG: Pending tasks: 1\n",
      "INFO: [pid 137] Worker Worker(salt=640015612, workers=1, host=88071f242bda, username=root, pid=137) running   SampleTask()\n",
      "INFO: [pid 137] Worker Worker(salt=640015612, workers=1, host=88071f242bda, username=root, pid=137) done      SampleTask()\n",
      "DEBUG: 1 running tasks, waiting for next task to finish\n",
      "INFO: Informed scheduler that task   SampleTask__99914b932b   has status   DONE\n",
      "DEBUG: Asking scheduler for work...\n",
      "DEBUG: Done\n",
      "DEBUG: There are no more tasks to run at this time\n",
      "INFO: Worker Worker(salt=640015612, workers=1, host=88071f242bda, username=root, pid=137) was stopped. Shutting down Keep-Alive thread\n",
      "INFO: \n",
      "===== Luigi Execution Summary =====\n",
      "\n",
      "Scheduled 1 tasks of which:\n",
      "* 1 ran successfully:\n",
      "    - 1 SampleTask(...)\n",
      "\n",
      "This progress looks :) because there were no failed tasks or missing dependencies\n",
      "\n",
      "===== Luigi Execution Summary =====\n",
      "\n"
     ]
    }
   ],
   "source": [
    "gokart.build(SampleTask(), return_value=False, log_level=logging.DEBUG)"
   ]
  },
  {
   "cell_type": "code",
   "execution_count": 86,
   "metadata": {},
   "outputs": [
    {
     "name": "stdout",
     "output_type": "stream",
     "text": [
      "  int_column\n",
      "0          a\n"
     ]
    }
   ],
   "source": [
    "with open('resources/__main__/SampleTask_5d77233c7f4ad76106e4f3c66b5d29d7.pkl', 'rb') as f:\n",
    "    print(pickle.load(f))"
   ]
  },
  {
   "cell_type": "markdown",
   "metadata": {},
   "source": [
    "って思ったけどエラーにならないじゃん。なぜ？？"
   ]
  },
  {
   "cell_type": "markdown",
   "metadata": {},
   "source": [
    "dfを読み込むときには`load_data_frame()`が使える。カラムを指定すれば、reset_indexとdropを読み込み次に自動でやってくれる。"
   ]
  },
  {
   "cell_type": "code",
   "execution_count": 87,
   "metadata": {},
   "outputs": [],
   "source": [
    "class CreateDf(gokart.TaskOnKart):\n",
    "    def run(self):\n",
    "        df = pd.DataFrame(dict(a=['a'], b=['b'], c=['c']))\n",
    "        self.dump(df)\n",
    "\n",
    "class LoadDf(gokart.TaskOnKart):\n",
    "    def requires(self):\n",
    "        return CreateDf()\n",
    "\n",
    "    def run(self):\n",
    "        df = self.load_data_frame(required_columns={'a', 'c'}, drop_columns=True)\n",
    "        self.dump(df)"
   ]
  },
  {
   "cell_type": "code",
   "execution_count": 88,
   "metadata": {},
   "outputs": [
    {
     "name": "stderr",
     "output_type": "stream",
     "text": [
      "DEBUG: Checking if LoadDf() is complete\n",
      "DEBUG: Checking if CreateDf() is complete\n",
      "INFO: Informed scheduler that task   LoadDf__99914b932b   has status   PENDING\n",
      "INFO: Informed scheduler that task   CreateDf__99914b932b   has status   PENDING\n",
      "INFO: Done scheduling tasks\n",
      "INFO: Running Worker with 1 processes\n",
      "DEBUG: Asking scheduler for work...\n",
      "DEBUG: Pending tasks: 2\n",
      "INFO: [pid 137] Worker Worker(salt=320155889, workers=1, host=88071f242bda, username=root, pid=137) running   CreateDf()\n",
      "INFO: [pid 137] Worker Worker(salt=320155889, workers=1, host=88071f242bda, username=root, pid=137) done      CreateDf()\n",
      "DEBUG: 1 running tasks, waiting for next task to finish\n",
      "INFO: Informed scheduler that task   CreateDf__99914b932b   has status   DONE\n",
      "DEBUG: Asking scheduler for work...\n",
      "DEBUG: Pending tasks: 1\n",
      "INFO: [pid 137] Worker Worker(salt=320155889, workers=1, host=88071f242bda, username=root, pid=137) running   LoadDf()\n",
      "INFO: [pid 137] Worker Worker(salt=320155889, workers=1, host=88071f242bda, username=root, pid=137) done      LoadDf()\n",
      "DEBUG: 1 running tasks, waiting for next task to finish\n",
      "INFO: Informed scheduler that task   LoadDf__99914b932b   has status   DONE\n",
      "DEBUG: Asking scheduler for work...\n",
      "DEBUG: Done\n",
      "DEBUG: There are no more tasks to run at this time\n",
      "INFO: Worker Worker(salt=320155889, workers=1, host=88071f242bda, username=root, pid=137) was stopped. Shutting down Keep-Alive thread\n",
      "INFO: \n",
      "===== Luigi Execution Summary =====\n",
      "\n",
      "Scheduled 2 tasks of which:\n",
      "* 2 ran successfully:\n",
      "    - 1 CreateDf(...)\n",
      "    - 1 LoadDf(...)\n",
      "\n",
      "This progress looks :) because there were no failed tasks or missing dependencies\n",
      "\n",
      "===== Luigi Execution Summary =====\n",
      "\n"
     ]
    }
   ],
   "source": [
    "gokart.build(LoadDf(), return_value=False, log_level=logging.DEBUG)"
   ]
  },
  {
   "cell_type": "code",
   "execution_count": 89,
   "metadata": {},
   "outputs": [
    {
     "name": "stdout",
     "output_type": "stream",
     "text": [
      "   a  c\n",
      "0  a  c\n"
     ]
    }
   ],
   "source": [
    "with open('resources/__main__/LoadDf_73a10e28a2a45c6791641134106e3ef4.pkl', 'rb') as f:\n",
    "    print(pickle.load(f))"
   ]
  },
  {
   "cell_type": "markdown",
   "metadata": {},
   "source": [
    "`dump`でなく`fail_on_empty_dump`を使えば、空のdfの時エラーになる"
   ]
  },
  {
   "cell_type": "code",
   "execution_count": 95,
   "metadata": {},
   "outputs": [],
   "source": [
    "class CreateFmptyDf(gokart.TaskOnKart):\n",
    "    def run(self):\n",
    "        df = pd.DataFrame()\n",
    "        self.fail_on_empty_dump(df)"
   ]
  },
  {
   "cell_type": "code",
   "execution_count": 97,
   "metadata": {},
   "outputs": [
    {
     "name": "stderr",
     "output_type": "stream",
     "text": [
      "DEBUG: Checking if CreateFmptyDf() is complete\n",
      "INFO: Informed scheduler that task   CreateFmptyDf__99914b932b   has status   PENDING\n",
      "INFO: Done scheduling tasks\n",
      "INFO: Running Worker with 1 processes\n",
      "DEBUG: Asking scheduler for work...\n",
      "DEBUG: Pending tasks: 1\n",
      "INFO: [pid 137] Worker Worker(salt=487947014, workers=1, host=88071f242bda, username=root, pid=137) running   CreateFmptyDf()\n",
      "ERROR: [pid 137] Worker Worker(salt=487947014, workers=1, host=88071f242bda, username=root, pid=137) failed    CreateFmptyDf()\n",
      "Traceback (most recent call last):\n",
      "  File \"/opt/anaconda3/lib/python3.7/site-packages/luigi/worker.py\", line 191, in run\n",
      "    new_deps = self._run_get_new_deps()\n",
      "  File \"/opt/anaconda3/lib/python3.7/site-packages/luigi/worker.py\", line 133, in _run_get_new_deps\n",
      "    task_gen = self.task.run()\n",
      "  File \"<ipython-input-95-228130c97141>\", line 4, in run\n",
      "    self.fail_on_empty_dump(df)\n",
      "TypeError: 'bool' object is not callable\n",
      "DEBUG: 1 running tasks, waiting for next task to finish\n",
      "INFO: Informed scheduler that task   CreateFmptyDf__99914b932b   has status   FAILED\n",
      "DEBUG: Asking scheduler for work...\n",
      "DEBUG: Done\n",
      "DEBUG: There are no more tasks to run at this time\n",
      "DEBUG: There are 1 pending tasks possibly being run by other workers\n",
      "DEBUG: There are 1 pending tasks unique to this worker\n",
      "DEBUG: There are 1 pending tasks last scheduled by this worker\n",
      "INFO: Worker Worker(salt=487947014, workers=1, host=88071f242bda, username=root, pid=137) was stopped. Shutting down Keep-Alive thread\n",
      "INFO: \n",
      "===== Luigi Execution Summary =====\n",
      "\n",
      "Scheduled 1 tasks of which:\n",
      "* 1 failed:\n",
      "    - 1 CreateFmptyDf(...)\n",
      "\n",
      "This progress looks :( because there were failed tasks\n",
      "\n",
      "===== Luigi Execution Summary =====\n",
      "\n"
     ]
    },
    {
     "ename": "GokartBuildError",
     "evalue": "\n===== Luigi Execution Summary =====\n\nScheduled 1 tasks of which:\n* 1 failed:\n    - 1 CreateFmptyDf(...)\n\nThis progress looks :( because there were failed tasks\n\n===== Luigi Execution Summary =====\n",
     "output_type": "error",
     "traceback": [
      "\u001b[0;31m---------------------------------------------------------------------------\u001b[0m",
      "\u001b[0;31mGokartBuildError\u001b[0m                          Traceback (most recent call last)",
      "\u001b[0;32m<ipython-input-97-5c1bc5d31483>\u001b[0m in \u001b[0;36m<module>\u001b[0;34m\u001b[0m\n\u001b[0;32m----> 1\u001b[0;31m \u001b[0mgokart\u001b[0m\u001b[0;34m.\u001b[0m\u001b[0mbuild\u001b[0m\u001b[0;34m(\u001b[0m\u001b[0mCreateFmptyDf\u001b[0m\u001b[0;34m(\u001b[0m\u001b[0mrerun\u001b[0m\u001b[0;34m=\u001b[0m\u001b[0;32mTrue\u001b[0m\u001b[0;34m)\u001b[0m\u001b[0;34m,\u001b[0m \u001b[0mreturn_value\u001b[0m\u001b[0;34m=\u001b[0m\u001b[0;32mFalse\u001b[0m\u001b[0;34m,\u001b[0m \u001b[0mlog_level\u001b[0m\u001b[0;34m=\u001b[0m\u001b[0mlogging\u001b[0m\u001b[0;34m.\u001b[0m\u001b[0mDEBUG\u001b[0m\u001b[0;34m)\u001b[0m\u001b[0;34m\u001b[0m\u001b[0;34m\u001b[0m\u001b[0m\n\u001b[0m",
      "\u001b[0;32m/opt/anaconda3/lib/python3.7/site-packages/gokart/build.py\u001b[0m in \u001b[0;36mbuild\u001b[0;34m(task, return_value, reset_register, log_level)\u001b[0m\n\u001b[1;32m     55\u001b[0m         \u001b[0mresult\u001b[0m \u001b[0;34m=\u001b[0m \u001b[0mluigi\u001b[0m\u001b[0;34m.\u001b[0m\u001b[0mbuild\u001b[0m\u001b[0;34m(\u001b[0m\u001b[0;34m[\u001b[0m\u001b[0mtask\u001b[0m\u001b[0;34m]\u001b[0m\u001b[0;34m,\u001b[0m \u001b[0mlocal_scheduler\u001b[0m\u001b[0;34m=\u001b[0m\u001b[0;32mTrue\u001b[0m\u001b[0;34m,\u001b[0m \u001b[0mdetailed_summary\u001b[0m\u001b[0;34m=\u001b[0m\u001b[0;32mTrue\u001b[0m\u001b[0;34m)\u001b[0m\u001b[0;34m\u001b[0m\u001b[0;34m\u001b[0m\u001b[0m\n\u001b[1;32m     56\u001b[0m         \u001b[0;32mif\u001b[0m \u001b[0mresult\u001b[0m\u001b[0;34m.\u001b[0m\u001b[0mstatus\u001b[0m \u001b[0;34m==\u001b[0m \u001b[0mluigi\u001b[0m\u001b[0;34m.\u001b[0m\u001b[0mLuigiStatusCode\u001b[0m\u001b[0;34m.\u001b[0m\u001b[0mFAILED\u001b[0m\u001b[0;34m:\u001b[0m\u001b[0;34m\u001b[0m\u001b[0;34m\u001b[0m\u001b[0m\n\u001b[0;32m---> 57\u001b[0;31m             \u001b[0;32mraise\u001b[0m \u001b[0mGokartBuildError\u001b[0m\u001b[0;34m(\u001b[0m\u001b[0mresult\u001b[0m\u001b[0;34m.\u001b[0m\u001b[0msummary_text\u001b[0m\u001b[0;34m)\u001b[0m\u001b[0;34m\u001b[0m\u001b[0;34m\u001b[0m\u001b[0m\n\u001b[0m\u001b[1;32m     58\u001b[0m     \u001b[0;32mreturn\u001b[0m \u001b[0m_get_output\u001b[0m\u001b[0;34m(\u001b[0m\u001b[0mtask\u001b[0m\u001b[0;34m)\u001b[0m \u001b[0;32mif\u001b[0m \u001b[0mreturn_value\u001b[0m \u001b[0;32melse\u001b[0m \u001b[0;32mNone\u001b[0m\u001b[0;34m\u001b[0m\u001b[0;34m\u001b[0m\u001b[0m\n",
      "\u001b[0;31mGokartBuildError\u001b[0m: \n===== Luigi Execution Summary =====\n\nScheduled 1 tasks of which:\n* 1 failed:\n    - 1 CreateFmptyDf(...)\n\nThis progress looks :( because there were failed tasks\n\n===== Luigi Execution Summary =====\n"
     ]
    }
   ],
   "source": [
    "gokart.build(CreateFmptyDf(rerun=True), return_value=False, log_level=logging.DEBUG)"
   ]
  },
  {
   "cell_type": "markdown",
   "metadata": {},
   "source": [
    "## Task Parameters"
   ]
  },
  {
   "cell_type": "markdown",
   "metadata": {},
   "source": [
    "- Luigi ParameterとGokart Parameterがある\n",
    "    - Luigiの方は普通のデータ型を渡したいときに使う\n",
    "    - Gokartの方はGokartのインスタンスを渡すときに使う"
   ]
  },
  {
   "cell_type": "code",
   "execution_count": 98,
   "metadata": {},
   "outputs": [],
   "source": [
    "class TaskA(gokart.TaskOnKart):\n",
    "    def run(self):\n",
    "        self.dump('Hello')\n",
    "\n",
    "\n",
    "class TaskB(gokart.TaskOnKart):\n",
    "    require_task = gokart.TaskInstanceParameter()\n",
    "\n",
    "    def requires(self):\n",
    "        return self.require_task\n",
    "\n",
    "    def run(self):\n",
    "        task_a = self.load()\n",
    "        self.dump(','.join([task_a, 'world']))"
   ]
  },
  {
   "cell_type": "code",
   "execution_count": 99,
   "metadata": {},
   "outputs": [
    {
     "name": "stderr",
     "output_type": "stream",
     "text": [
      "DEBUG: Checking if TaskB(require_task=TaskA(c23680bed2ec8ff44c0c58b49bd72f35)) is complete\n",
      "DEBUG: Checking if TaskA() is complete\n",
      "INFO: Informed scheduler that task   TaskB___type____TaskA__0574fcdfe8   has status   PENDING\n",
      "INFO: Informed scheduler that task   TaskA__99914b932b   has status   DONE\n",
      "INFO: Done scheduling tasks\n",
      "INFO: Running Worker with 1 processes\n",
      "DEBUG: Asking scheduler for work...\n",
      "DEBUG: Pending tasks: 1\n",
      "INFO: [pid 137] Worker Worker(salt=512840982, workers=1, host=88071f242bda, username=root, pid=137) running   TaskB(require_task=TaskA(c23680bed2ec8ff44c0c58b49bd72f35))\n",
      "INFO: [pid 137] Worker Worker(salt=512840982, workers=1, host=88071f242bda, username=root, pid=137) done      TaskB(require_task=TaskA(c23680bed2ec8ff44c0c58b49bd72f35))\n",
      "DEBUG: 1 running tasks, waiting for next task to finish\n",
      "INFO: Informed scheduler that task   TaskB___type____TaskA__0574fcdfe8   has status   DONE\n",
      "DEBUG: Asking scheduler for work...\n",
      "DEBUG: Done\n",
      "DEBUG: There are no more tasks to run at this time\n",
      "INFO: Worker Worker(salt=512840982, workers=1, host=88071f242bda, username=root, pid=137) was stopped. Shutting down Keep-Alive thread\n",
      "INFO: \n",
      "===== Luigi Execution Summary =====\n",
      "\n",
      "Scheduled 2 tasks of which:\n",
      "* 1 complete ones were encountered:\n",
      "    - 1 TaskA(...)\n",
      "* 1 ran successfully:\n",
      "    - 1 TaskB(...)\n",
      "\n",
      "This progress looks :) because there were no failed tasks or missing dependencies\n",
      "\n",
      "===== Luigi Execution Summary =====\n",
      "\n"
     ]
    }
   ],
   "source": [
    "gokart.build(TaskB(require_task=TaskA()), return_value=False, log_level=logging.DEBUG)"
   ]
  },
  {
   "cell_type": "markdown",
   "metadata": {},
   "source": [
    "### パラメタの指定方法\n",
    "\n",
    "- command lineから実行するときにオプションで指定する\n",
    "- configファイルに書く（この場合環境変数使うこともできる）\n",
    "- 上流タスクで指定する\n",
    "- Inherit parameterで継承する"
   ]
  },
  {
   "cell_type": "code",
   "execution_count": 105,
   "metadata": {},
   "outputs": [
    {
     "ename": "ImportError",
     "evalue": "cannot import name 'inherits_config_params' from 'gokart' (/opt/anaconda3/lib/python3.7/site-packages/gokart/__init__.py)",
     "output_type": "error",
     "traceback": [
      "\u001b[0;31m---------------------------------------------------------------------------\u001b[0m",
      "\u001b[0;31mImportError\u001b[0m                               Traceback (most recent call last)",
      "\u001b[0;32m<ipython-input-105-310d661e4da7>\u001b[0m in \u001b[0;36m<module>\u001b[0;34m\u001b[0m\n\u001b[0;32m----> 1\u001b[0;31m \u001b[0;32mfrom\u001b[0m \u001b[0mgokart\u001b[0m \u001b[0;32mimport\u001b[0m \u001b[0minherits_config_params\u001b[0m\u001b[0;34m\u001b[0m\u001b[0;34m\u001b[0m\u001b[0m\n\u001b[0m\u001b[1;32m      2\u001b[0m \u001b[0;34m\u001b[0m\u001b[0m\n\u001b[1;32m      3\u001b[0m \u001b[0;31m# Inherit parameterで継承する\u001b[0m\u001b[0;34m\u001b[0m\u001b[0;34m\u001b[0m\u001b[0;34m\u001b[0m\u001b[0m\n\u001b[1;32m      4\u001b[0m \u001b[0;32mclass\u001b[0m \u001b[0mMasterConfig\u001b[0m\u001b[0;34m(\u001b[0m\u001b[0mluigi\u001b[0m\u001b[0;34m.\u001b[0m\u001b[0mConfig\u001b[0m\u001b[0;34m)\u001b[0m\u001b[0;34m:\u001b[0m\u001b[0;34m\u001b[0m\u001b[0;34m\u001b[0m\u001b[0m\n\u001b[1;32m      5\u001b[0m     \u001b[0mparam\u001b[0m\u001b[0;34m:\u001b[0m \u001b[0mstr\u001b[0m \u001b[0;34m=\u001b[0m \u001b[0mluigi\u001b[0m\u001b[0;34m.\u001b[0m\u001b[0mParameter\u001b[0m\u001b[0;34m(\u001b[0m\u001b[0;34m)\u001b[0m\u001b[0;34m\u001b[0m\u001b[0;34m\u001b[0m\u001b[0m\n",
      "\u001b[0;31mImportError\u001b[0m: cannot import name 'inherits_config_params' from 'gokart' (/opt/anaconda3/lib/python3.7/site-packages/gokart/__init__.py)"
     ]
    }
   ],
   "source": [
    "from gokart import inherits_config_params\n",
    "\n",
    "# Inherit parameterで継承する\n",
    "class MasterConfig(luigi.Config):\n",
    "    param: str = luigi.Parameter()\n",
    "    param2: str = luigi.Parameter()\n",
    "\n",
    "@inherits_config_params(MasterConfig)\n",
    "class SomeTask(gokart.TaskOnKart):\n",
    "    param: str = luigi.Parameter()"
   ]
  },
  {
   "cell_type": "markdown",
   "metadata": {},
   "source": [
    "### その他"
   ]
  },
  {
   "cell_type": "markdown",
   "metadata": {},
   "source": [
    "ランダムシードを固定できる"
   ]
  },
  {
   "cell_type": "code",
   "execution_count": 108,
   "metadata": {},
   "outputs": [
    {
     "data": {
      "text/plain": [
       "'\\ngokart.build(\\n    Task(\\n        fix_random_seed_methods=[\\n            \"random.seed\",\\n            \"numpy.random.seed\",\\n            \"torch.random.manual_seed\"],\\n        fix_random_seed_value=57))\\n'"
      ]
     },
     "execution_count": 108,
     "metadata": {},
     "output_type": "execute_result"
    }
   ],
   "source": [
    "\"\"\"\n",
    "gokart.build(\n",
    "    Task(\n",
    "        fix_random_seed_methods=[\n",
    "            \"random.seed\",\n",
    "            \"numpy.random.seed\",\n",
    "            \"torch.random.manual_seed\"],\n",
    "        fix_random_seed_value=57))\n",
    "\"\"\""
   ]
  },
  {
   "cell_type": "markdown",
   "metadata": {},
   "source": [
    "### ちょっと複雑な例を試す"
   ]
  },
  {
   "cell_type": "code",
   "execution_count": 116,
   "metadata": {},
   "outputs": [],
   "source": [
    "class TaskD(gokart.TaskOnKart):\n",
    "    def output(self):\n",
    "        return dict(h=self.make_target('output_h.pkl'), w=self.make_target('output_w.pkl'))\n",
    "    \n",
    "    def run(self):\n",
    "        self.dump('hello', 'h')\n",
    "        self.dump('world', 'w')\n",
    "\n",
    "\n",
    "class TaskE(gokart.TaskOnKart):\n",
    "    def run(self):\n",
    "        self.dump('!')\n",
    "\n",
    "class TaskF(gokart.TaskOnKart):\n",
    "    def requires(self):\n",
    "        return dict(a=TaskD(), b=TaskE())\n",
    "    \n",
    "    def run(self):\n",
    "        input = self.load('a')\n",
    "        self.dump(f'{input}')"
   ]
  },
  {
   "cell_type": "code",
   "execution_count": 117,
   "metadata": {},
   "outputs": [
    {
     "name": "stderr",
     "output_type": "stream",
     "text": [
      "DEBUG: Checking if TaskF() is complete\n",
      "DEBUG: Checking if TaskD() is complete\n",
      "DEBUG: Checking if TaskE() is complete\n",
      "INFO: Informed scheduler that task   TaskF__99914b932b   has status   PENDING\n",
      "INFO: Informed scheduler that task   TaskE__99914b932b   has status   DONE\n",
      "INFO: Informed scheduler that task   TaskD__99914b932b   has status   PENDING\n",
      "INFO: Done scheduling tasks\n",
      "INFO: Running Worker with 1 processes\n",
      "DEBUG: Asking scheduler for work...\n",
      "DEBUG: Pending tasks: 2\n",
      "INFO: [pid 137] Worker Worker(salt=896943363, workers=1, host=88071f242bda, username=root, pid=137) running   TaskD()\n",
      "INFO: [pid 137] Worker Worker(salt=896943363, workers=1, host=88071f242bda, username=root, pid=137) done      TaskD()\n",
      "DEBUG: 1 running tasks, waiting for next task to finish\n",
      "INFO: Informed scheduler that task   TaskD__99914b932b   has status   DONE\n",
      "DEBUG: Asking scheduler for work...\n",
      "DEBUG: Pending tasks: 1\n",
      "INFO: [pid 137] Worker Worker(salt=896943363, workers=1, host=88071f242bda, username=root, pid=137) running   TaskF()\n",
      "INFO: [pid 137] Worker Worker(salt=896943363, workers=1, host=88071f242bda, username=root, pid=137) done      TaskF()\n",
      "DEBUG: 1 running tasks, waiting for next task to finish\n",
      "INFO: Informed scheduler that task   TaskF__99914b932b   has status   DONE\n",
      "DEBUG: Asking scheduler for work...\n",
      "DEBUG: Done\n",
      "DEBUG: There are no more tasks to run at this time\n",
      "INFO: Worker Worker(salt=896943363, workers=1, host=88071f242bda, username=root, pid=137) was stopped. Shutting down Keep-Alive thread\n",
      "INFO: \n",
      "===== Luigi Execution Summary =====\n",
      "\n",
      "Scheduled 3 tasks of which:\n",
      "* 1 complete ones were encountered:\n",
      "    - 1 TaskE(...)\n",
      "* 2 ran successfully:\n",
      "    - 1 TaskD(...)\n",
      "    - 1 TaskF(...)\n",
      "\n",
      "This progress looks :) because there were no failed tasks or missing dependencies\n",
      "\n",
      "===== Luigi Execution Summary =====\n",
      "\n"
     ]
    }
   ],
   "source": [
    "gokart.build(TaskF(), return_value=False, log_level=logging.DEBUG)"
   ]
  },
  {
   "cell_type": "code",
   "execution_count": 118,
   "metadata": {},
   "outputs": [
    {
     "name": "stdout",
     "output_type": "stream",
     "text": [
      "{'h': 'hello', 'w': 'world'}\n"
     ]
    }
   ],
   "source": [
    "with open('resources/__main__/TaskF_4cee666e2efd15bcd0febcdea089bdf3.pkl', 'rb') as f:\n",
    "    print(pickle.load(f))"
   ]
  },
  {
   "cell_type": "code",
   "execution_count": null,
   "metadata": {},
   "outputs": [],
   "source": []
  }
 ],
 "metadata": {
  "kernelspec": {
   "display_name": "Python 3",
   "language": "python",
   "name": "python3"
  },
  "language_info": {
   "codemirror_mode": {
    "name": "ipython",
    "version": 3
   },
   "file_extension": ".py",
   "mimetype": "text/x-python",
   "name": "python",
   "nbconvert_exporter": "python",
   "pygments_lexer": "ipython3",
   "version": "3.7.4"
  }
 },
 "nbformat": 4,
 "nbformat_minor": 4
}
