{
 "cells": [
  {
   "cell_type": "code",
   "execution_count": 7,
   "metadata": {},
   "outputs": [],
   "source": [
    "from utils import ml_workflow, db\n",
    "import warnings\n",
    "import os\n",
    "import psycopg2\n",
    "import pandas as pd\n",
    "\n",
    "warnings.filterwarnings(\"ignore\")"
   ]
  },
  {
   "cell_type": "code",
   "execution_count": 10,
   "metadata": {},
   "outputs": [],
   "source": [
    "conn = db.connect('dev')\n",
    "df = pd.read_sql(sql=\"SELECT * FROM diabetes_diagnosis_results;\", con=conn)"
   ]
  },
  {
   "cell_type": "code",
   "execution_count": 3,
   "metadata": {},
   "outputs": [
    {
     "name": "stdout",
     "output_type": "stream",
     "text": [
      "ID: 20220108055318, C: 0.1, AUC score: 0.7644793363946081\n"
     ]
    }
   ],
   "source": [
    "C = 0.1\n",
    "ml_workflow.train_and_evaluate_model(df, C)"
   ]
  },
  {
   "cell_type": "code",
   "execution_count": 4,
   "metadata": {},
   "outputs": [
    {
     "name": "stdout",
     "output_type": "stream",
     "text": [
      "ID: 20220108055326, C: 0.5, AUC score: 0.783143238038809\n"
     ]
    }
   ],
   "source": [
    "C = 0.5\n",
    "ml_workflow.train_and_evaluate_model(df, C)"
   ]
  },
  {
   "cell_type": "code",
   "execution_count": 5,
   "metadata": {},
   "outputs": [
    {
     "name": "stdout",
     "output_type": "stream",
     "text": [
      "ID: 20220108055327, C: 1.0, AUC score: 0.7933639460820618\n"
     ]
    }
   ],
   "source": [
    "C = 1.0\n",
    "ml_workflow.train_and_evaluate_model(df, C)"
   ]
  },
  {
   "cell_type": "code",
   "execution_count": 6,
   "metadata": {},
   "outputs": [
    {
     "name": "stdout",
     "output_type": "stream",
     "text": [
      "ID: 20220108055328, C: 5.0, AUC score: 0.8007702562583321\n"
     ]
    }
   ],
   "source": [
    "C = 5.0\n",
    "ml_workflow.train_and_evaluate_model(df, C)"
   ]
  },
  {
   "cell_type": "code",
   "execution_count": 9,
   "metadata": {},
   "outputs": [
    {
     "name": "stdout",
     "output_type": "stream",
     "text": [
      "ID: 20220108055333, C: 10.0, AUC score: 0.7986964894089765\n"
     ]
    }
   ],
   "source": [
    "C = 10.0\n",
    "ml_workflow.train_and_evaluate_model(df, C)"
   ]
  },
  {
   "cell_type": "code",
   "execution_count": 13,
   "metadata": {},
   "outputs": [
    {
     "name": "stdout",
     "output_type": "stream",
     "text": [
      "deploy finished\n"
     ]
    }
   ],
   "source": [
    "run_id=20220108055328\n",
    "C=5.0\n",
    "ml_workflow.train_and_deploy_model(run_id, C)"
   ]
  },
  {
   "cell_type": "code",
   "execution_count": 25,
   "metadata": {},
   "outputs": [],
   "source": [
    "import os\n",
    "import psycopg2\n",
    "from sqlalchemy import create_engine\n",
    "\n",
    "pgconfig = {\n",
    "    'host': 'db',\n",
    "    'port': os.environ['PG_PORT'],\n",
    "    'database': os.environ['PG_DATABASE'],\n",
    "    'user': os.environ['PG_USER'],\n",
    "    'password': os.environ['PG_PASSWORD'],\n",
    "}\n",
    "dsl = 'postgresql://{user}:{password}@{host}:{port}/{database}'.format(**pgconfig)\n",
    "\n",
    "# pd.read_sql用のコネクタ\n",
    "conn = psycopg2.connect(**pgconfig)"
   ]
  },
  {
   "cell_type": "code",
   "execution_count": 5,
   "metadata": {},
   "outputs": [],
   "source": [
    "#!pip install psycopg2"
   ]
  },
  {
   "cell_type": "code",
   "execution_count": 6,
   "metadata": {},
   "outputs": [
    {
     "data": {
      "text/plain": [
       "Engine(postgresql://postgres:***@db:5432/mlops_db)"
      ]
     },
     "execution_count": 6,
     "metadata": {},
     "output_type": "execute_result"
    }
   ],
   "source": [
    "engine"
   ]
  },
  {
   "cell_type": "code",
   "execution_count": 22,
   "metadata": {},
   "outputs": [
    {
     "data": {
      "text/plain": [
       "{'host': 'db',\n",
       " 'port': '5432',\n",
       " 'database': 'mlops_db',\n",
       " 'user': 'postgres',\n",
       " 'password': 'postgres12345'}"
      ]
     },
     "execution_count": 22,
     "metadata": {},
     "output_type": "execute_result"
    }
   ],
   "source": [
    "pgconfig"
   ]
  },
  {
   "cell_type": "code",
   "execution_count": 20,
   "metadata": {},
   "outputs": [],
   "source": [
    "cur = conn.cursor()"
   ]
  },
  {
   "cell_type": "code",
   "execution_count": 24,
   "metadata": {},
   "outputs": [],
   "source": [
    "conn.close()"
   ]
  },
  {
   "cell_type": "code",
   "execution_count": 43,
   "metadata": {},
   "outputs": [],
   "source": [
    "def execute(sql):\n",
    "    with conn.cursor() as cur:\n",
    "        cur.execute(sql)\n",
    "    conn.commit()\n",
    "\n",
    "def fetch_one(sql):\n",
    "    with conn.cursor() as cur:\n",
    "        cur.execute(sql)\n",
    "        return cur.fetchall()"
   ]
  },
  {
   "cell_type": "code",
   "execution_count": 61,
   "metadata": {},
   "outputs": [],
   "source": [
    "from scripts import db\n",
    "\n",
    "conn = db.connect('dev')\n",
    "\n",
    "sql = \"\"\"\n",
    "    DROP TABLE diabetes_diagnosis_results;\n",
    "    CREATE TABLE diabetes_diagnosis_results(\n",
    "        index INTEGER,\n",
    "        Pregnancies INTEGER,\n",
    "        Glucose INTEGER,\n",
    "        BloodPressure INTEGER,\n",
    "        SkinThickness INTEGER,\n",
    "        Insulin INTEGER,\n",
    "        BMI NUMERIC,\n",
    "        DiabetesPedigreeFunction NUMERIC,\n",
    "        Age INTEGER,\n",
    "        Outcome INTEGER,\n",
    "        primary key (index)\n",
    "    );\n",
    "    \"\"\"\n",
    "db.execute(conn, sql)"
   ]
  },
  {
   "cell_type": "code",
   "execution_count": 56,
   "metadata": {},
   "outputs": [],
   "source": [
    "conn.close()"
   ]
  },
  {
   "cell_type": "code",
   "execution_count": 57,
   "metadata": {},
   "outputs": [
    {
     "data": {
      "text/plain": [
       "Index(['index', 'Pregnancies', 'Glucose', 'BloodPressure', 'SkinThickness',\n",
       "       'Insulin', 'BMI', 'DiabetesPedigreeFunction', 'Age', 'Outcome'],\n",
       "      dtype='object')"
      ]
     },
     "execution_count": 57,
     "metadata": {},
     "output_type": "execute_result"
    }
   ],
   "source": [
    "df.columns"
   ]
  },
  {
   "cell_type": "code",
   "execution_count": 78,
   "metadata": {},
   "outputs": [],
   "source": [
    "conn = db.connect('dev')\n",
    "with conn.cursor() as cur:\n",
    "    with open('./data/train1.csv', mode='r', encoding='utf-8') as f:\n",
    "        cur.copy_from(\n",
    "            f, 'diabetes_diagnosis_results', sep=',', \n",
    "            columns=(\n",
    "                'index', \n",
    "                'Pregnancies', \n",
    "                'Glucose', \n",
    "                'BloodPressure', \n",
    "                'SkinThickness',\n",
    "                'Insulin', \n",
    "                'BMI', \n",
    "                'DiabetesPedigreeFunction', \n",
    "                'Age', \n",
    "                'Outcome'\n",
    "                )\n",
    "            )\n",
    "conn.commit()\n",
    "\n",
    "f.close()"
   ]
  },
  {
   "cell_type": "code",
   "execution_count": 75,
   "metadata": {},
   "outputs": [
    {
     "name": "stdout",
     "output_type": "stream",
     "text": [
      "<class '_io.TextIOWrapper'>\n"
     ]
    }
   ],
   "source": [
    "with open('./data/train1.csv', mode='r+', encoding='utf-8') as f:\n",
    "    lines = (f.readlines()[1:])\n",
    "    text = ''.join(lines)\n",
    "    print(type(f))"
   ]
  },
  {
   "cell_type": "code",
   "execution_count": null,
   "metadata": {},
   "outputs": [],
   "source": [
    "sql = \"\"\"\n",
    "    select count(1) from diabetes_diagnosis_results;\n",
    "\"\"\"\n",
    "db.fetc_hall(conn, sql)"
   ]
  },
  {
   "cell_type": "code",
   "execution_count": null,
   "metadata": {},
   "outputs": [],
   "source": []
  }
 ],
 "metadata": {
  "kernelspec": {
   "display_name": "Python 3",
   "language": "python",
   "name": "python3"
  },
  "language_info": {
   "codemirror_mode": {
    "name": "ipython",
    "version": 3
   },
   "file_extension": ".py",
   "mimetype": "text/x-python",
   "name": "python",
   "nbconvert_exporter": "python",
   "pygments_lexer": "ipython3",
   "version": "3.7.4"
  }
 },
 "nbformat": 4,
 "nbformat_minor": 4
}
