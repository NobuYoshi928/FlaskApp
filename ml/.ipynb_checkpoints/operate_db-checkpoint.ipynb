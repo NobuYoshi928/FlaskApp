{
 "cells": [
  {
   "cell_type": "code",
   "execution_count": 2,
   "metadata": {},
   "outputs": [],
   "source": [
    "import warnings\n",
    "\n",
    "import psycopg2\n",
    "\n",
    "from utils import ml_workflow, db\n",
    "\n",
    "warnings.filterwarnings(\"ignore\")"
   ]
  },
  {
   "cell_type": "code",
   "execution_count": 3,
   "metadata": {},
   "outputs": [],
   "source": [
    "conn = db.connect('dev')"
   ]
  },
  {
   "cell_type": "code",
   "execution_count": null,
   "metadata": {},
   "outputs": [],
   "source": [
    "sql = \"\"\"\n",
    "    DROP TABLE IF EXISTS diabetes_diagnosis_results;\n",
    "    CREATE TABLE diabetes_diagnosis_results(\n",
    "        index INTEGER,\n",
    "        Pregnancies INTEGER,\n",
    "        Glucose INTEGER,\n",
    "        BloodPressure INTEGER,\n",
    "        SkinThickness INTEGER,\n",
    "        Insulin INTEGER,\n",
    "        BMI NUMERIC,\n",
    "        DiabetesPedigreeFunction NUMERIC,\n",
    "        Age INTEGER,\n",
    "        Outcome INTEGER,\n",
    "        primary key (index)\n",
    "    );\n",
    "    \"\"\"\n",
    "db.execute(conn, sql)"
   ]
  },
  {
   "cell_type": "code",
   "execution_count": null,
   "metadata": {},
   "outputs": [],
   "source": [
    "table_name = 'diabetes_diagnosis_results'\n",
    "file_path = './data/train1.csv'\n",
    "columns = [\n",
    "    'index', 'Pregnancies', 'Glucose', 'BloodPressure', 'SkinThickness', \n",
    "    'Insulin', 'BMI', 'DiabetesPedigreeFunction', 'Age', 'Outcome'\n",
    "]\n",
    "load_from_csv(conn, table_name, file_path, columns)"
   ]
  },
  {
   "cell_type": "code",
   "execution_count": null,
   "metadata": {},
   "outputs": [],
   "source": [
    "conn.close()"
   ]
  }
 ],
 "metadata": {
  "kernelspec": {
   "display_name": "Python 3",
   "language": "python",
   "name": "python3"
  },
  "language_info": {
   "codemirror_mode": {
    "name": "ipython",
    "version": 3
   },
   "file_extension": ".py",
   "mimetype": "text/x-python",
   "name": "python",
   "nbconvert_exporter": "python",
   "pygments_lexer": "ipython3",
   "version": "3.7.4"
  }
 },
 "nbformat": 4,
 "nbformat_minor": 4
}
